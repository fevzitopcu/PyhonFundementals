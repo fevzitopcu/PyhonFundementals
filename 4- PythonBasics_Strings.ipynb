{
 "cells": [
  {
   "cell_type": "markdown",
   "metadata": {},
   "source": [
    "<!DOCTYPE html>\n",
    "<link rel=\"stylesheet\" href=\"style.css\">\n",
    "<html lang=\"en\">\n",
    "<body>\n",
    "    <h1>Python Strings</h1>\n",
    "    <div>\n",
    "        <ul>\n",
    "            <p></p>\n",
    "        </ul>\n",
    "    </div>\n",
    "</body>\n",
    "</html>"
   ]
  },
  {
   "cell_type": "code",
   "execution_count": 2,
   "metadata": {},
   "outputs": [
    {
     "name": "stdout",
     "output_type": "stream",
     "text": [
      "Hello\n"
     ]
    }
   ],
   "source": [
    "# Defining a string\n",
    "\n",
    "a = \"Hello\"\n",
    "print(a)\n"
   ]
  },
  {
   "cell_type": "code",
   "execution_count": 1,
   "metadata": {},
   "outputs": [
    {
     "name": "stdout",
     "output_type": "stream",
     "text": [
      "Lorem ipsum dolor sit amet,\n",
      "consectetur adipiscing elit,\n",
      "sed do eiusmod tempor incididunt\n",
      "ut labore et dolore magna aliqua.\n"
     ]
    }
   ],
   "source": [
    "# Multi Line String\n",
    "\n",
    "a = \"\"\"Lorem ipsum dolor sit amet,\n",
    "consectetur adipiscing elit,\n",
    "sed do eiusmod tempor incididunt\n",
    "ut labore et dolore magna aliqua.\"\"\"\n",
    "print(a)\n"
   ]
  },
  {
   "cell_type": "code",
   "execution_count": 4,
   "metadata": {},
   "outputs": [
    {
     "name": "stdout",
     "output_type": "stream",
     "text": [
      "H e\n"
     ]
    }
   ],
   "source": [
    "# Strings are Arrays\n",
    "\n",
    "\"\"\"\n",
    "Strings in Python are arrays of bytes representing unicode characters.\n",
    "However, Python does not have a character data type,\n",
    "A single character is simply a string with a length of 1.\n",
    "Square brackets can be used to access elements of the string.\n",
    "\"\"\"\n",
    "\n",
    "str = \"Hello World!\"\n",
    "print(str[0], str[1])\n"
   ]
  },
  {
   "cell_type": "code",
   "execution_count": 5,
   "metadata": {},
   "outputs": [
    {
     "name": "stdout",
     "output_type": "stream",
     "text": [
      "12\n"
     ]
    }
   ],
   "source": [
    "# String Length\n",
    "\n",
    "\"\"\"\n",
    "To get the length of a string, use the len() function.\n",
    "\n",
    "\"\"\"\n",
    "str = \"Hello World!\"\n",
    "print(len(str))\n"
   ]
  },
  {
   "cell_type": "code",
   "execution_count": 11,
   "metadata": {},
   "outputs": [
    {
     "name": "stdout",
     "output_type": "stream",
     "text": [
      "True\n",
      "False\n",
      "----------------------\n",
      "False\n",
      "True\n"
     ]
    }
   ],
   "source": [
    "# Check String\n",
    "# To check if a certain phrase or character is present in a string, we can use the keyword \"in\".\n",
    "# To check if a certain phrase or character is NOT present in a string, we can use the keyword \"not in\".\n",
    "# returns bool result\n",
    "\n",
    "text = \"Python is the most user friendly language\"\n",
    "\n",
    "print(\"he most\" in text)\n",
    "print(\"free\" in text)\n",
    "print(\"----------------------\")\n",
    "print(\"he most\" not in text)\n",
    "print(\"free\" not in text)\n"
   ]
  },
  {
   "cell_type": "markdown",
   "metadata": {},
   "source": [
    "<!DOCTYPE html>\n",
    "<html lang=\"en\">\n",
    "<head>\n",
    "    <meta charset=\"UTF-8\">\n",
    "    <meta http-equiv=\"X-UA-Compatible\" content=\"IE=edge\">\n",
    "    <meta name=\"viewport\" content=\"width=device-width, initial-scale=1.0\">\n",
    "    <title>Python Fundementals</title>\n",
    "    <link rel=\"stylesheet\" href=\"style.css\">\n",
    "</head>\n",
    "<body>\n",
    "    <h1>Python - Slicing Strings</h1>\n",
    "    <h2>Slicing</h2>\n",
    "    <ul>\n",
    "        <li>You can return a range of characters by using the slice syntax.</li>\n",
    "        <li>Specify the start index and the end index, separated by a colon, to return a part of the string.</li>\n",
    "        <li>string[start index : end index : step ]</li>\n",
    "    </ul>\n",
    "</body>\n",
    "</html>"
   ]
  },
  {
   "cell_type": "code",
   "execution_count": 19,
   "metadata": {},
   "outputs": [
    {
     "name": "stdout",
     "output_type": "stream",
     "text": [
      "Hello World This is Python\n",
      "Hello World Thi\n",
      "HloWrdTi sPto\n",
      "nohtyP si sihT dlroW olleH\n",
      "26\n"
     ]
    }
   ],
   "source": [
    "str =\"Hello World This is Python\"\n",
    "# end index not included\n",
    "\n",
    "# get all characters\n",
    "print(str[::])\n",
    "print(str[:15:])\n",
    "print(str[::2])\n",
    "print(str[::-1])\n",
    "print(len(str))\n"
   ]
  },
  {
   "cell_type": "code",
   "execution_count": 35,
   "metadata": {},
   "outputs": [
    {
     "name": "stdout",
     "output_type": "stream",
     "text": [
      "olleH\n",
      "Hello\n",
      "Hel\n",
      "Hel\n"
     ]
    }
   ],
   "source": [
    "# Negative index\n",
    "# end index not included\n",
    "\n",
    "str = \"Hello\"\n",
    "\n",
    "print(str[::-1])\n",
    "print(str[-5::1])\n",
    "print(str[-5:-2:])\n",
    "print(str[-5:3:])\n"
   ]
  },
  {
   "cell_type": "markdown",
   "metadata": {},
   "source": [
    "<!DOCTYPE html>\n",
    "<html lang=\"en\">\n",
    "<head>\n",
    "    <meta charset=\"UTF-8\">\n",
    "    <meta http-equiv=\"X-UA-Compatible\" content=\"IE=edge\">\n",
    "    <meta name=\"viewport\" content=\"width=device-width, initial-scale=1.0\">\n",
    "    <title>Python Fundementals</title>\n",
    "    <link rel=\"stylesheet\" href=\"style.css\">\n",
    "</head>\n",
    "<body>\n",
    "    <h1>Python - Modify Strings</h1>\n",
    "    <h2>Upper Case</h2>\n",
    "    <ul>\n",
    "        <li>Python has a set of built-in methods that you can use on strings.</li>\n",
    "        <li>The upper() method returns the string in upper case</li>\n",
    "    </ul>\n",
    "    <h2>Lower Case</h2>\n",
    "    <ul>\n",
    "        <li>The lower() method returns the string in lower case:</li>\n",
    "    </ul>\n",
    "        <h2>Remove Whitespace</h2>\n",
    "    <ul>\n",
    "        <li>Whitespace is the space before and/or after the actual text, and very often you want to remove this space.</li>\n",
    "        <li>The strip() method removes any whitespace from the beginning or the end:</li>\n",
    "    </ul>\n",
    "    <h2>Replace String</h2>\n",
    "    <ul>\n",
    "        <li>The replace() method replaces a string with another string:</li>\n",
    "    </ul>\n",
    "        <h2>Split String</h2>\n",
    "    <ul>\n",
    "        <li>The split() method returns a list where the text between the specified separator becomes the list items.</li>\n",
    "        <li>The split() method splits the string into substrings if it finds instances of the separator:</li>\n",
    "    </ul>\n",
    "        <h2>Python - String Concatenation</h2>\n",
    "    <ul>\n",
    "        <li>To concatenate, or combine, two strings you can use the + operator.</li>\n",
    "    </ul>\n",
    "</body>\n",
    "</html>"
   ]
  },
  {
   "cell_type": "code",
   "execution_count": 43,
   "metadata": {},
   "outputs": [
    {
     "name": "stdout",
     "output_type": "stream",
     "text": [
      "HELLO WORLD THIS IS PYTHON\n",
      "hello world this is python\n",
      "Hello, World!\n",
      "Jello, World!\n",
      "['hello', 'world', 'python']\n",
      "['hell', ' w', 'rld pyth', 'n']\n",
      "hello world python\n"
     ]
    }
   ],
   "source": [
    "# uppercase\n",
    "str =\"Hello world this is python\"\n",
    "print(str.upper())\n",
    "print(str.lower())\n",
    "\n",
    "# strip()\n",
    "str = \" Hello, World! \"\n",
    "print(str.strip()) # returns \"Hello, World!\"\n",
    "\n",
    "# replace()\n",
    "str = \"Hello, World!\"\n",
    "print(str.replace(\"H\", \"J\"))\n",
    "\n",
    "# split()\n",
    "str = \"hello world python\"\n",
    "print(str.split())\n",
    "print(str.split(\"o\"))\n",
    "print(*str.split())\n"
   ]
  },
  {
   "cell_type": "code",
   "execution_count": 45,
   "metadata": {},
   "outputs": [
    {
     "name": "stdout",
     "output_type": "stream",
     "text": [
      "Hello-World\n"
     ]
    }
   ],
   "source": [
    "#  To add a space between them, add a \" \":\n",
    "a = \"Hello\"\n",
    "b = \"World\"\n",
    "c = a + \" \" + b\n",
    "print(c)"
   ]
  },
  {
   "cell_type": "markdown",
   "metadata": {},
   "source": [
    "<!DOCTYPE html>\n",
    "<html lang=\"en\">\n",
    "<head>\n",
    "    <title>Python Fundementals</title>\n",
    "    <link rel=\"stylesheet\" href=\"style.css\">\n",
    "</head>\n",
    "<body>\n",
    "    <h1>Python - Escape Characters</h1>\n",
    "    <h2>Escape Character</h2>\n",
    "    <ul>\n",
    "        <li>To insert characters that are illegal in a string, use an escape character.</li>\n",
    "        <li>An escape character is a backslash \\ followed by the character you want to insert.</li>\n",
    "        <li>An example of an illegal character is a double quote inside a string that is surrounded by double quotes:</li>\n",
    "        <li>\n",
    "            \\'\t    Single Quote<br>\t\n",
    "            \\\\\t    Backslash<br>\n",
    "            \\n\t    New Line<br>\n",
    "            \\r\t    Carriage Return <br>\t\n",
    "            \\t\t    Tab\t<br>\n",
    "            \\b\t    Backspace <br>\t\n",
    "            \\f\t    Form Feed <br>\t\n",
    "            \\ooo\tOctal value\t<br>\n",
    "            \\xhh\tHex value <br>\n",
    "        </li>\n",
    "    </ul>\n",
    "</body>\n",
    "</html>"
   ]
  },
  {
   "cell_type": "code",
   "execution_count": 59,
   "metadata": {},
   "outputs": [
    {
     "name": "stdout",
     "output_type": "stream",
     "text": [
      "We are the so-called \"Vikings\" from the north.\n",
      "helloworld!\n",
      "Merhaba\\\n",
      "Hello\n",
      "0x156\n",
      "Hello\n"
     ]
    }
   ],
   "source": [
    "txt = \"We are the so-called \\\"Vikings\\\" from the north.\"\n",
    "print(txt)\n",
    "\n",
    "txt = \"hello \\bworld!\"\n",
    "print(txt)\n",
    "\n",
    "txt =\"Merhaba\\\\\"\n",
    "print(txt)\n",
    "\n",
    "txt = oct(445)\n",
    "#A backslash followed by three integers will result in a octal value:\n",
    "txt = \"\\110\\145\\154\\154\\157\"\n",
    "print(txt)\n",
    "\n",
    "txt = hex(342)\n",
    "print(txt)\n",
    "#A backslash followed by an 'x' and a hex number represents a hex value:\n",
    "txt = \"\\x48\\x65\\x6c\\x6c\\x6f\"\n",
    "print(txt)\n",
    "\n"
   ]
  },
  {
   "cell_type": "code",
   "execution_count": null,
   "metadata": {},
   "outputs": [],
   "source": []
  }
 ],
 "metadata": {
  "interpreter": {
   "hash": "9e420b6fa3fd7b9b81ddbcd254cb3b74e9e7beae700425c33bc97f90b494e529"
  },
  "kernelspec": {
   "display_name": "Python 3.9.2 64-bit",
   "language": "python",
   "name": "python3"
  },
  "language_info": {
   "codemirror_mode": {
    "name": "ipython",
    "version": 3
   },
   "file_extension": ".py",
   "mimetype": "text/x-python",
   "name": "python",
   "nbconvert_exporter": "python",
   "pygments_lexer": "ipython3",
   "version": "3.9.2"
  },
  "orig_nbformat": 4
 },
 "nbformat": 4,
 "nbformat_minor": 2
}
