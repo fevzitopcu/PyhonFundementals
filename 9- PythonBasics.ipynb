{
 "cells": [
  {
   "cell_type": "code",
   "execution_count": 2,
   "metadata": {},
   "outputs": [
    {
     "data": {
      "text/plain": [
       "['right 20', 'right 30', 'left 50', 'up 10', 'down 20']"
      ]
     },
     "execution_count": 2,
     "metadata": {},
     "output_type": "execute_result"
    }
   ],
   "source": [
    "command = [\"right 20\", \"right 30\", \"left 50\", \"up 10\", \"down 20\"]\n",
    "\n",
    "command"
   ]
  },
  {
   "cell_type": "code",
   "execution_count": 9,
   "metadata": {},
   "outputs": [
    {
     "name": "stdout",
     "output_type": "stream",
     "text": [
      "0 -10\n"
     ]
    }
   ],
   "source": [
    "x = 0\n",
    "y = 0\n",
    "for i in command:\n",
    "    if i.split()[0]=='right':\n",
    "        x+=int(i.split()[1])\n",
    "    elif i.split()[0]=='left':\n",
    "        x-=int(i.split()[1])\n",
    "    elif i.split()[0]=='up':\n",
    "        y+=int(i.split()[1])\n",
    "    elif i.split()[0]=='down':\n",
    "        y-=int(i.split()[1])\n",
    "print(x,y)"
   ]
  },
  {
   "cell_type": "code",
   "execution_count": 10,
   "metadata": {},
   "outputs": [
    {
     "name": "stdout",
     "output_type": "stream",
     "text": [
      "0 -10\n"
     ]
    }
   ],
   "source": [
    "x = 0\n",
    "y = 0\n",
    "for i in command:\n",
    "    a = i.split()\n",
    "    if a[0]=='right':\n",
    "        x+=int(a[1])\n",
    "    elif a[0]=='left':\n",
    "        x-=int(a[1])\n",
    "    elif a[0]=='up':\n",
    "        y+=int(a[1])\n",
    "    elif a[0]=='down':\n",
    "        y-=int(a[1])\n",
    "print(x,y)"
   ]
  },
  {
   "cell_type": "code",
   "execution_count": 12,
   "metadata": {},
   "outputs": [
    {
     "data": {
      "text/plain": [
       "[0, -10]"
      ]
     },
     "execution_count": 12,
     "metadata": {},
     "output_type": "execute_result"
    }
   ],
   "source": [
    "command = [\"right 20\", \"right 30\", \"left 50\", \"up 10\", \"down 20\"]\n",
    "\n",
    "x = y = 0\n",
    "\n",
    "for i in range(len(command)) :\n",
    "  if   command[i].startswith(\"r\") : x = x + int(command[i].split()[1])\n",
    "  elif command[i].startswith(\"l\") : x = x - int(command[i].split()[1])\n",
    "  elif command[i].startswith(\"u\") : y = y + int(command[i].split()[1])\n",
    "  elif command[i].startswith(\"d\") : y = y - int(command[i].split()[1])\n",
    "[x, y]\n",
    "    "
   ]
  },
  {
   "cell_type": "markdown",
   "metadata": {},
   "source": [
    "Valid Paranthesis: \n",
    "\n",
    "Given a string containing just the characters '(', ')', '{', '}', '[' and ']',\n",
    "determine if the input string is valid.\n",
    "An input string is valid if:\n",
    "Open brackets must be closed by the same type of brackets.\n",
    "Open brackets must be closed in the correct order.\n",
    "Note that an empty string is also considered valid.\n",
    "Example 1: Input: \"()\"      Output: True\n",
    "Example 2: Input: \"()[]{}\"  Output: True\n",
    "Example 3: Input: \"(]\"      Output: False\n",
    "Example 4: Input: \"([)]\"    Output: False\n",
    "Example 5: Input: \"{[]}\"    Output: True\n"
   ]
  },
  {
   "cell_type": "code",
   "execution_count": 19,
   "metadata": {},
   "outputs": [
    {
     "data": {
      "text/plain": [
       "True"
      ]
     },
     "execution_count": 19,
     "metadata": {},
     "output_type": "execute_result"
    }
   ],
   "source": [
    "def isValid(str):\n",
    "    while \"()\" in str or \"[]\" in str or \"{}\"in str:\n",
    "        str = str.replace(\"()\",\"\").replace(\"[]\",\"\").replace(\"{}\",\"\")\n",
    "    return str == \"\"\n",
    "    \n",
    "str = \"()[[]{[]}]{}\"\n",
    "isValid(str)"
   ]
  },
  {
   "cell_type": "code",
   "execution_count": null,
   "metadata": {},
   "outputs": [],
   "source": []
  },
  {
   "cell_type": "markdown",
   "metadata": {},
   "source": [
    "## Building A calculator using dict with lambda Expression"
   ]
  },
  {
   "cell_type": "code",
   "execution_count": 20,
   "metadata": {},
   "outputs": [
    {
     "data": {
      "text/plain": [
       "9"
      ]
     },
     "execution_count": 20,
     "metadata": {},
     "output_type": "execute_result"
    }
   ],
   "source": [
    "(lambda x,y: x+y)(4,5)"
   ]
  },
  {
   "cell_type": "code",
   "execution_count": 22,
   "metadata": {},
   "outputs": [
    {
     "data": {
      "text/plain": [
       "['bilmiyorum']"
      ]
     },
     "execution_count": 22,
     "metadata": {},
     "output_type": "execute_result"
    }
   ],
   "source": [
    "my_dict = {\"ne diyorum\": \"sesimi duy\", \"neden\": [\"bilmiyorum\"]}\n",
    "my_dict[\"neden\"]"
   ]
  },
  {
   "cell_type": "code",
   "execution_count": 24,
   "metadata": {},
   "outputs": [
    {
     "data": {
      "text/plain": [
       "7"
      ]
     },
     "execution_count": 24,
     "metadata": {},
     "output_type": "execute_result"
    }
   ],
   "source": [
    "calculator = {\"+\": (lambda x, y: x+y), \n",
    "              \"-\": (lambda x, y: x-y), \n",
    "              \"*\": (lambda x, y: x*y),\n",
    "              \"/\": (lambda x, y: x/y),}\n"
   ]
  },
  {
   "cell_type": "code",
   "execution_count": 26,
   "metadata": {},
   "outputs": [
    {
     "name": "stdout",
     "output_type": "stream",
     "text": [
      "7\n",
      "-1\n",
      "12\n",
      "0.75\n"
     ]
    }
   ],
   "source": [
    "print(calculator[\"+\"](3,4))\n",
    "print(calculator[\"-\"](3,4))\n",
    "print(calculator[\"*\"](3,4))\n",
    "print(calculator[\"/\"](3,4))"
   ]
  },
  {
   "cell_type": "markdown",
   "metadata": {},
   "source": [
    "## Password Creator"
   ]
  },
  {
   "cell_type": "markdown",
   "metadata": {},
   "source": []
  },
  {
   "cell_type": "code",
   "execution_count": 27,
   "metadata": {},
   "outputs": [
    {
     "name": "stdout",
     "output_type": "stream",
     "text": [
      "Welcome to the PyPassword Generator!\n"
     ]
    },
    {
     "ename": "ValueError",
     "evalue": "invalid literal for int() with base 10: 'ddfff55449'",
     "output_type": "error",
     "traceback": [
      "\u001b[1;31m---------------------------------------------------------------------------\u001b[0m",
      "\u001b[1;31mValueError\u001b[0m                                Traceback (most recent call last)",
      "\u001b[1;32m~\\AppData\\Local\\Temp/ipykernel_6892/4146865794.py\u001b[0m in \u001b[0;36m<module>\u001b[1;34m\u001b[0m\n\u001b[0;32m      4\u001b[0m \u001b[0msymbols\u001b[0m \u001b[1;33m=\u001b[0m \u001b[1;33m[\u001b[0m\u001b[1;34m'!'\u001b[0m\u001b[1;33m,\u001b[0m \u001b[1;34m'#'\u001b[0m\u001b[1;33m,\u001b[0m \u001b[1;34m'$'\u001b[0m\u001b[1;33m,\u001b[0m \u001b[1;34m'%'\u001b[0m\u001b[1;33m,\u001b[0m \u001b[1;34m'&'\u001b[0m\u001b[1;33m,\u001b[0m \u001b[1;34m'('\u001b[0m\u001b[1;33m,\u001b[0m \u001b[1;34m')'\u001b[0m\u001b[1;33m,\u001b[0m \u001b[1;34m'*'\u001b[0m\u001b[1;33m,\u001b[0m \u001b[1;34m'+'\u001b[0m\u001b[1;33m]\u001b[0m\u001b[1;33m\u001b[0m\u001b[1;33m\u001b[0m\u001b[0m\n\u001b[0;32m      5\u001b[0m \u001b[0mprint\u001b[0m\u001b[1;33m(\u001b[0m\u001b[1;34m\"Welcome to the PyPassword Generator!\"\u001b[0m\u001b[1;33m)\u001b[0m\u001b[1;33m\u001b[0m\u001b[1;33m\u001b[0m\u001b[0m\n\u001b[1;32m----> 6\u001b[1;33m \u001b[0mnr_letters\u001b[0m \u001b[1;33m=\u001b[0m \u001b[0mint\u001b[0m\u001b[1;33m(\u001b[0m\u001b[0minput\u001b[0m\u001b[1;33m(\u001b[0m\u001b[1;34m\"How many letters would you like in your password?\\n\"\u001b[0m\u001b[1;33m)\u001b[0m\u001b[1;33m)\u001b[0m\u001b[1;33m\u001b[0m\u001b[1;33m\u001b[0m\u001b[0m\n\u001b[0m\u001b[0;32m      7\u001b[0m \u001b[0mnr_symbols\u001b[0m \u001b[1;33m=\u001b[0m \u001b[0mint\u001b[0m\u001b[1;33m(\u001b[0m\u001b[0minput\u001b[0m\u001b[1;33m(\u001b[0m\u001b[1;34mf\"How many symbols would you like?\\n\"\u001b[0m\u001b[1;33m)\u001b[0m\u001b[1;33m)\u001b[0m\u001b[1;33m\u001b[0m\u001b[1;33m\u001b[0m\u001b[0m\n\u001b[0;32m      8\u001b[0m \u001b[0mnr_numbers\u001b[0m \u001b[1;33m=\u001b[0m \u001b[0mint\u001b[0m\u001b[1;33m(\u001b[0m\u001b[0minput\u001b[0m\u001b[1;33m(\u001b[0m\u001b[1;34mf\"How many numbers would you like?\\n\"\u001b[0m\u001b[1;33m)\u001b[0m\u001b[1;33m)\u001b[0m\u001b[1;33m\u001b[0m\u001b[1;33m\u001b[0m\u001b[0m\n",
      "\u001b[1;31mValueError\u001b[0m: invalid literal for int() with base 10: 'ddfff55449'"
     ]
    }
   ],
   "source": [
    "import random\n",
    "letters = ['a', 'b', 'c', 'd', 'e', 'f', 'g', 'h', 'i', 'j', 'k', 'l', 'm', 'n', 'o', 'p', 'q', 'r', 's', 't', 'u', 'v', 'w', 'x', 'y', 'z', 'A', 'B', 'C', 'D', 'E', 'F', 'G', 'H', 'I', 'J', 'K', 'L', 'M', 'N', 'O', 'P', 'Q', 'R', 'S', 'T', 'U', 'V', 'W', 'X', 'Y', 'Z']\n",
    "numbers = ['0', '1', '2', '3', '4', '5', '6', '7', '8', '9']\n",
    "symbols = ['!', '#', '$', '%', '&', '(', ')', '*', '+']\n",
    "print(\"Welcome to the PyPassword Generator!\")\n",
    "nr_letters = int(input(\"How many letters would you like in your password?\\n\"))\n",
    "nr_symbols = int(input(f\"How many symbols would you like?\\n\"))\n",
    "nr_numbers = int(input(f\"How many numbers would you like?\\n\"))\n",
    "#Eazy Level\n",
    "# password = \"\"\n",
    "# for char in range(1, nr_letters + 1):\n",
    "#   password += random.choice(letters)\n",
    "# for char in range(1, nr_symbols + 1):\n",
    "#   password += random.choice(symbols)\n",
    "# for char in range(1, nr_numbers + 1):\n",
    "#   password += random.choice(numbers)\n",
    "# print(password)\n",
    "#Hard Level\n",
    "password_list = []\n",
    "for char in range(1, nr_letters + 1):\n",
    "  password_list.append(random.choice(letters))\n",
    "for char in range(1, nr_symbols + 1):\n",
    "  password_list += random.choice(symbols)\n",
    "for char in range(1, nr_numbers + 1):\n",
    "  password_list += random.choice(numbers)\n",
    "print(password_list)\n",
    "random.shuffle(password_list)\n",
    "print(password_list)\n",
    "password = \"\"\n",
    "for char in password_list:\n",
    "  password += char\n",
    "print(f\"Your password is: {password}\")\n",
    "\n"
   ]
  },
  {
   "cell_type": "code",
   "execution_count": 29,
   "metadata": {},
   "outputs": [
    {
     "data": {
      "text/plain": [
       "'Q'"
      ]
     },
     "execution_count": 29,
     "metadata": {},
     "output_type": "execute_result"
    }
   ],
   "source": [
    "import random\n",
    "\n",
    "chr(random.randint(65,90)) # upper\n",
    "chr(random.randint(97,122)) # lower\n",
    "chr(random.randint(48,57)) # numbers\n",
    "chr(random.randint(33,47)) # karakters\n",
    "chr(random.randint(58,64)) # karakters"
   ]
  },
  {
   "cell_type": "code",
   "execution_count": 55,
   "metadata": {},
   "outputs": [],
   "source": [
    "uppers = [chr(random.randint(65,90)) for i in range(3)]\n",
    "lowers = [chr(random.randint(97,122)) for i in range(3)]\n",
    "numbers = [chr(random.randint(48,57)) for i in range(3)]\n",
    "chars = chr(random.randint(33,47)) + chr(random.randint(58,64))\n",
    "\n"
   ]
  },
  {
   "cell_type": "code",
   "execution_count": 53,
   "metadata": {},
   "outputs": [
    {
     "data": {
      "text/plain": [
       "'9*7*2'"
      ]
     },
     "execution_count": 53,
     "metadata": {},
     "output_type": "execute_result"
    }
   ],
   "source": [
    "\"*\".join(numbers)"
   ]
  },
  {
   "cell_type": "code",
   "execution_count": 70,
   "metadata": {},
   "outputs": [
    {
     "name": "stdout",
     "output_type": "stream",
     "text": [
      "['R', 'M', 'Y', 'f', 'v', 't', '2', '5', '0', '+', ':']\n"
     ]
    },
    {
     "data": {
      "text/plain": [
       "'+fv2Y:R05Mt'"
      ]
     },
     "execution_count": 70,
     "metadata": {},
     "output_type": "execute_result"
    }
   ],
   "source": [
    "raw_pass =\"\".join(uppers) + \"\".join(lowers) + \"\".join(numbers) + \"\".join(chars)\n",
    "passw =list(raw_pass)\n",
    "print(passw)\n",
    "random.shuffle(passw)\n",
    "\"\".join(passw)\n"
   ]
  },
  {
   "cell_type": "code",
   "execution_count": 71,
   "metadata": {},
   "outputs": [],
   "source": [
    "def shuffle(password):\n",
    "    templist= list(password)\n",
    "    random.shuffle(templist)\n",
    "    return \"\".join(templist)"
   ]
  },
  {
   "cell_type": "code",
   "execution_count": 79,
   "metadata": {},
   "outputs": [
    {
     "data": {
      "text/plain": [
       "'R+M2:v50Yft'"
      ]
     },
     "execution_count": 79,
     "metadata": {},
     "output_type": "execute_result"
    }
   ],
   "source": [
    "password_my = shuffle(passw)\n",
    "password_my"
   ]
  },
  {
   "cell_type": "code",
   "execution_count": 58,
   "metadata": {},
   "outputs": [
    {
     "data": {
      "text/plain": [
       "'?yu~T,ySZ'"
      ]
     },
     "execution_count": 58,
     "metadata": {},
     "output_type": "execute_result"
    }
   ],
   "source": [
    "import random\n",
    "import string \n",
    "lower = string.ascii_lowercase\n",
    "upper = string.ascii_uppercase\n",
    "punctu = string.punctuation\n",
    "\n",
    "l = [random.choice(lower) + random.choice(upper) + random.choice(punctu) for i in range(3)]\n",
    "passw = list(\"\".join(l))\n",
    "random.shuffle(passw)\n",
    "new_password = \"\".join(passw)\n",
    "new_password"
   ]
  },
  {
   "cell_type": "code",
   "execution_count": 82,
   "metadata": {},
   "outputs": [],
   "source": [
    "from timeit import timeit\n",
    "\n",
    "def for_loop():\n",
    "    result =[]\n",
    "    for i in range(1000000):\n",
    "        result.append(i)\n",
    "    return result\n"
   ]
  },
  {
   "cell_type": "code",
   "execution_count": 81,
   "metadata": {},
   "outputs": [],
   "source": [
    "from timeit import timeit\n",
    "\n",
    "def list_comp():\n",
    "    return [i for i in range(1000000)]"
   ]
  },
  {
   "cell_type": "code",
   "execution_count": 89,
   "metadata": {},
   "outputs": [],
   "source": [
    "size = 1000\n",
    "time_for = timeit(for_loop, number= size)\n",
    "time_lst = timeit(list_comp, number= size)"
   ]
  },
  {
   "cell_type": "code",
   "execution_count": null,
   "metadata": {},
   "outputs": [
    {
     "name": "stdout",
     "output_type": "stream",
     "text": [
      "list comp is 1.47 times faster\n"
     ]
    }
   ],
   "source": [
    "print(f\"list comp is {round(time_for/time_lst,2)} times faster\")"
   ]
  }
 ],
 "metadata": {
  "interpreter": {
   "hash": "9e420b6fa3fd7b9b81ddbcd254cb3b74e9e7beae700425c33bc97f90b494e529"
  },
  "kernelspec": {
   "display_name": "Python 3.9.2 64-bit",
   "language": "python",
   "name": "python3"
  },
  "language_info": {
   "codemirror_mode": {
    "name": "ipython",
    "version": 3
   },
   "file_extension": ".py",
   "mimetype": "text/x-python",
   "name": "python",
   "nbconvert_exporter": "python",
   "pygments_lexer": "ipython3",
   "version": "3.9.2"
  },
  "orig_nbformat": 4
 },
 "nbformat": 4,
 "nbformat_minor": 2
}
