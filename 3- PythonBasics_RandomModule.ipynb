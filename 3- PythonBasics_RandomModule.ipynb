{
 "cells": [
  {
   "cell_type": "markdown",
   "metadata": {},
   "source": [
    "Python Random randrange() Method\n",
    "\n",
    "(random.randrange(start, stop, step))\n",
    "start\tOptional. An integer specifying at which position to start.Default 0\n",
    "stop\tRequired. An integer specifying at which position to end.\n",
    "step\tOptional. An integer specifying the incrementation.Default 1\n",
    "\n",
    "The randrange() method returns a randomly selected element from the specified range."
   ]
  },
  {
   "cell_type": "code",
   "execution_count": null,
   "metadata": {},
   "outputs": [],
   "source": [
    "import random\n",
    "\n",
    "print(random.randrange(10)) # return a random number between 0-9(0 include but, not include 10 )\n",
    "print(random.randrange(4, 10)) # return a random number between 4-9\n",
    "print(random.randrange(0, 10, 2)) # return an even random number between 0-9\n",
    "print(random.randrange(1, 10, 2)) # return an odd random number between 0-9"
   ]
  },
  {
   "cell_type": "markdown",
   "metadata": {},
   "source": [
    "Python Random randint() Method (random.randint(start, stop))\n",
    "\n",
    "start\tRequired. An integer specifying at which position to start.\n",
    "stop\tRequired. An integer specifying at which position to end."
   ]
  },
  {
   "cell_type": "code",
   "execution_count": null,
   "metadata": {},
   "outputs": [],
   "source": [
    "import random\n",
    "# (random.randint(start, stop)) \n",
    "# (start include but, stop not include)\n",
    "print(random.randint(2,6)) "
   ]
  },
  {
   "cell_type": "markdown",
   "metadata": {},
   "source": [
    "Python Random seed() Method\n",
    "\n",
    "The seed() method is used to initialize the random number generator.\n",
    "\n",
    "The random number generator needs a number to start with (a seed value), to be able to generate a random number.\n",
    "\n",
    "By default the random number generator uses the current system time.\n",
    "\n",
    "Use the seed() method to customize the start number of the random number generator.\n",
    "\n",
    "Note: If you use the same seed value twice you will get the same random number twice. See example below\n",
    "\n",
    "random.seed(a, version)\n",
    "a:          Optional. The seed value needed to generate a random number.\n",
    "If it is an integer it is used directly, if not it has to be converted into an integer.\n",
    "Default value is None, and if None, the generator uses the current system time.\n",
    "\n",
    "version:    An integer specifying how to convert the a parameter into a integer.\n",
    "Default value is 2\n"
   ]
  },
  {
   "cell_type": "code",
   "execution_count": null,
   "metadata": {},
   "outputs": [],
   "source": [
    "import random\n",
    "\n",
    "random.seed(5)\n",
    "print(random.random())\n",
    "\n",
    "random.seed(5)\n",
    "print(random.random())\n",
    "\n",
    "random.seed(\"9\",3)\n",
    "print(random.random())\n",
    "\n",
    "random.seed(\"9\",3)\n",
    "print(random.random())"
   ]
  },
  {
   "cell_type": "markdown",
   "metadata": {},
   "source": [
    "Python Random getstate() Method\n",
    "\n",
    "The getstate() method returns an object with the current state of the random number generator.\n",
    "\n",
    "Use this method to capture the state, and use the setstate() method, with the captured state, to restore the state\n",
    "\n",
    "Python Random setstate() Method (random.setstate(state))\n",
    "\n",
    "The setstate() method is used to restore the state of the random number generator back to the specified state\n",
    "\n",
    "Use the getstate() method to capture the state\n",
    "\n",
    "state: Required. A state object. the setstate() method will restore the state of  the random number generator back to this sate."
   ]
  },
  {
   "cell_type": "code",
   "execution_count": null,
   "metadata": {},
   "outputs": [],
   "source": [
    "import random\n",
    "\n",
    "#print a random number:\n",
    "print(random.random())\n",
    "\n",
    "#capture the state:\n",
    "state = random.getstate()\n",
    "\n",
    "#print another random number:\n",
    "print(random.random())\n",
    "\n",
    "#restore the state:\n",
    "random.setstate(state)\n",
    "\n",
    "#and the next random number should be the same as when you captured the state:\n",
    "print(random.random())"
   ]
  },
  {
   "cell_type": "code",
   "execution_count": 3,
   "metadata": {},
   "outputs": [
    {
     "name": "stdout",
     "output_type": "stream",
     "text": [
      "E\n",
      "banana\n",
      "cherry\n",
      "9\n"
     ]
    }
   ],
   "source": [
    "# Python Random choice() Method \n",
    "# Definition and Usage\n",
    "# The choice() method returns a randomly selected element from the specified sequence.\n",
    "# The sequence can be a string, a range, a list, a tuple or any other kind of sequence.\n",
    "# random.choice(sequence)\n",
    "# sequence:\tRequired. A sequence like a list, a tuple, a range of numbers etc.\n",
    "import random\n",
    "\n",
    "x = \"WELCOME\"\n",
    "print(random.choice(x))\n",
    "\n",
    "mylist = [\"apple\", \"banana\", \"cherry\"]  #list\n",
    "print(random.choice(mylist))\n",
    "\n",
    "mylist = \"apple\", \"banana\", \"cherry\"    #Tuple\n",
    "print(random.choice(mylist))\n",
    "\n",
    "mylist = range(10)\n",
    "print(random.choice(mylist))\n",
    "\n",
    "# mylist = {1:\"apple\", 2:\"banana\", 3:\"cherry\"}   # Dict type is not applicaple\n",
    "# print(random.choice(mylist))\n",
    "\n",
    "# mylist = {\"apple\", \"banana\", \"cherry\"}   # Set type is not applicaple\n",
    "# print(random.choice(mylist))"
   ]
  },
  {
   "cell_type": "code",
   "execution_count": 8,
   "metadata": {},
   "outputs": [
    {
     "name": "stdout",
     "output_type": "stream",
     "text": [
      "['banana', 'cherry', 'Pear', 'Pear', 'Pear', 'apple', 'Pear', 'Pear']\n"
     ]
    }
   ],
   "source": [
    "# Python Random choices() Method \n",
    "\n",
    "# The choices() method returns a list with the randomly selected element from the specified sequence.\n",
    "# You can weight the possibility of each result with the weights parameter or the cum_weights parameter.\n",
    "# The sequence can be a string, a range, a list, a tuple or any other kind of sequence.\n",
    "# random.choices(sequence, weights=None, cum_weights=None, k=1)\n",
    "\n",
    "# sequence\tRequired. A sequence like a list, a tuple, a range of numbers etc.\n",
    "# weights\tOptional. A list were you can weigh the possibility for each value. Default None\n",
    "# cum_weights\tOptional. A list were you can weigh the possibility for each value, only this time the possibility is accumulated.\n",
    "# Example: normal weights list: [2, 1, 1] is the same as this cum_weights list; [2, 3, 4].Default None\n",
    "# k\tOptional. An integer defining the length of the returned list\n",
    "\n",
    "import random\n",
    "\n",
    "mylist = [\"apple\", \"banana\", \"cherry\",\"Pear\"]\n",
    "print(random.choices(mylist, weights = [1, 1, 1, 5], k = 8))"
   ]
  },
  {
   "cell_type": "code",
   "execution_count": 18,
   "metadata": {},
   "outputs": [
    {
     "name": "stdout",
     "output_type": "stream",
     "text": [
      "['banana', 'apple', 'cherry']\n"
     ]
    }
   ],
   "source": [
    "# Python Random shuffle() Method\n",
    "# random.shuffle(sequence, function)\n",
    "# The shuffle() method takes a sequence, like a list, and reorganize the order of the items.\n",
    "# Note: This method changes the original list, it does not return a new list.\n",
    "# sequence:\tRequired. A sequence. \n",
    "# function:\tOptional. The name of a function that returns a number between 0.0 and 1.0.\n",
    "# If not specified, the function random() will be used\n",
    "\n",
    "import random\n",
    "\n",
    "mylist = [\"apple\", \"banana\", \"cherry\"]\n",
    "random.shuffle(mylist)\n",
    "\n",
    "print(mylist)"
   ]
  },
  {
   "cell_type": "code",
   "execution_count": 35,
   "metadata": {},
   "outputs": [
    {
     "name": "stdout",
     "output_type": "stream",
     "text": [
      "['cherry', 'banana']\n"
     ]
    }
   ],
   "source": [
    "# Python Random sample() Method\n",
    "# random.sample(sequence, k)\n",
    "# The sample() method returns a list with a randomly selection of a specified number of items from a sequnce.\n",
    "# sequence  :\tRequired. A sequence. Can be any sequence: list, set, range etc.\n",
    "# k         : \tRequired. The size of the returned list\n",
    "\n",
    "import random\n",
    "\n",
    "mylist = [\"apple\", \"banana\", \"cherry\"]\n",
    "\n",
    "print(random.sample(mylist, k=2))"
   ]
  },
  {
   "cell_type": "code",
   "execution_count": 46,
   "metadata": {},
   "outputs": [
    {
     "name": "stdout",
     "output_type": "stream",
     "text": [
      "23.702942230717863\n"
     ]
    }
   ],
   "source": [
    "# Python Random uniform() Method\n",
    "# random.uniform(a, b)\n",
    "# a\tRequired. A number specifying the lowest possible outcome\n",
    "# b\tRequired. A number specifying the highest possible outcome\n",
    "# The uniform() method returns a random floating number between the two specified numbers (both included).\n",
    "import random\n",
    "\n",
    "print(random.uniform(20, 41))\n"
   ]
  },
  {
   "cell_type": "code",
   "execution_count": 51,
   "metadata": {},
   "outputs": [
    {
     "name": "stdout",
     "output_type": "stream",
     "text": [
      "39.678910676742916\n"
     ]
    }
   ],
   "source": [
    "# Python Random triangular() Method\n",
    "# random.triangular(low, high, mode)\n",
    "# Return a random number between, and included, low and high, but most likely closer to low if mode closer to low:\n",
    "# The example Return a random number between, and included, 20 and 60, but most likely closer to 20:\n",
    "import random\n",
    "\n",
    "print(random.triangular(20, 60, 30))"
   ]
  },
  {
   "cell_type": "markdown",
   "metadata": {},
   "source": [
    "betavariate()\t    Returns a random float number between 0 and 1 based on the Beta distribution (used in statistics)\n",
    "expovariate()\t    Returns a random float number based on the Exponential distribution (used in statistics)\n",
    "gammavariate()\t    Returns a random float number based on the Gamma distribution (used in statistics)\n",
    "gauss()\t            Returns a random float number based on the Gaussian distribution (used in probability theories)\n",
    "lognormvariate()    Returns a random float number based on a log-normal distribution (used in probability theories)\n",
    "normalvariate()\t    Returns a random float number based on the normal distribution (used in probability theories)\n",
    "vonmisesvariate()   Returns a random float number based on the von Mises distribution (used in directional statistics)\n",
    "paretovariate()\t    Returns a random float number based on the Pareto distribution (used in probability theories)\n",
    "weibullvariate()\tReturns a random float number based on the Weibull distribution (used in statistics)"
   ]
  }
 ],
 "metadata": {
  "interpreter": {
   "hash": "9e420b6fa3fd7b9b81ddbcd254cb3b74e9e7beae700425c33bc97f90b494e529"
  },
  "kernelspec": {
   "display_name": "Python 3.9.2 64-bit",
   "language": "python",
   "name": "python3"
  },
  "language_info": {
   "codemirror_mode": {
    "name": "ipython",
    "version": 3
   },
   "file_extension": ".py",
   "mimetype": "text/x-python",
   "name": "python",
   "nbconvert_exporter": "python",
   "pygments_lexer": "ipython3",
   "version": "3.9.2"
  },
  "orig_nbformat": 4
 },
 "nbformat": 4,
 "nbformat_minor": 2
}
