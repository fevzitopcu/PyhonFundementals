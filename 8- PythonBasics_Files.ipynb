{
 "cells": [
  {
   "cell_type": "code",
   "execution_count": 15,
   "metadata": {},
   "outputs": [
    {
     "name": "stdout",
     "output_type": "stream",
     "text": [
      "<class '_io.TextIOWrapper'>\n"
     ]
    }
   ],
   "source": [
    "my_file = open(\"first_file.txt\",mode=\"a\")  # this syntax opens a 'txt' file \n",
    "\n",
    "\n",
    "print(type(my_file))\n",
    "my_file.close()"
   ]
  },
  {
   "cell_type": "code",
   "execution_count": null,
   "metadata": {},
   "outputs": [],
   "source": [
    "my_file = open(\"first_file.txt\",mode=\"r\") # Open for reading (default). If the file doesn't exist, FileNotFoundError will raise.\n",
    "my_file = open(\"first_file.txt\",mode=\"a\") # Open for writing. It will append to the end of the file if it already exists. If there is no file, it will create it.\n",
    "my_file = open(\"first_file.txt\",mode=\"w\") # Open for writing. It will be overwritten if the file already exists. If there is no file, it will create it.\n",
    "my_file = open(\"first_file.txt\",mode=\"x\") # Open for exclusive creation, it will fail if the file already exists.\n",
    "my_file = open(\"first_file.txt\",mode=\"b\") # Open in binary mode.\n",
    "my_file = open(\"first_file.txt\",mode=\"t\") # Open as a text file (default).\n",
    "my_file = open(\"first_file.txt\",mode=\"+\") # Open for updating (reading and writing).\n",
    "my_file = open(\"first_file.txt\",mode=\"r+\") # open and be able to read, modify, and update\n"
   ]
  },
  {
   "cell_type": "code",
   "execution_count": 14,
   "metadata": {},
   "outputs": [
    {
     "name": "stdout",
     "output_type": "stream",
     "text": [
      "This is the first line of my text file\n"
     ]
    }
   ],
   "source": [
    "with open(\"dummy_file.txt\", 'w', encoding=\"utf-8\") as file:  \n",
    "# we create and open the file\n",
    "\n",
    "    file.write('This is the first line of my text file')  \n",
    "    # writes str data into file\n",
    "\n",
    "with open(\"dummy_file.txt\", 'r', encoding=\"utf-8\") as file:\n",
    "    print(file.read())  # reads the content of the 'dummy_file'"
   ]
  },
  {
   "cell_type": "code",
   "execution_count": 13,
   "metadata": {},
   "outputs": [
    {
     "name": "stdout",
     "output_type": "stream",
     "text": [
      "My first sentenceMy second sentence,My third sentence\n",
      "My fourth sentence My last sentence\n"
     ]
    }
   ],
   "source": [
    "with open(\"dummy_file.txt\", 'w', encoding=\"utf-8\") as file:\n",
    "    file.write('My first sentence')\n",
    "    file.write('My second sentence,')\n",
    "    file.write('My third sentence\\n')\n",
    "    file.write('My fourth sentence ')\n",
    "    file.write('My last sentence')\n",
    "\n",
    "with open(\"dummy_file.txt\", 'r', encoding=\"utf-8\") as file:\n",
    "    print(file.read())"
   ]
  },
  {
   "cell_type": "code",
   "execution_count": 14,
   "metadata": {},
   "outputs": [
    {
     "name": "stdout",
     "output_type": "stream",
     "text": [
      "Banana\n",
      "Orange\n",
      "Apple\n",
      "Strawberry\n",
      "Cherry\n",
      "\n",
      "['Banana\\n', 'Orange\\n', 'Apple\\n', 'Strawberry\\n', 'Cherry\\n']\n"
     ]
    }
   ],
   "source": [
    "fruits = ['Banana', 'Orange', 'Apple', 'Strawberry', 'Cherry']\n",
    "\n",
    "with open(\"fruits.txt\", 'w', encoding=\"utf-8\") as file:\n",
    "    for basket in fruits:\n",
    "        file.write(basket + '\\n')  # adds a newline character to each string\n",
    "   \n",
    "with open(\"fruits.txt\", 'r', encoding=\"utf-8\") as file:\n",
    "    print(file.read())\n",
    "\n",
    "with open(\"fruits.txt\", 'r', encoding=\"utf-8\") as file:\n",
    "    print(file.readlines())  # reads and displays entire lines in a list"
   ]
  },
  {
   "cell_type": "code",
   "execution_count": 1,
   "metadata": {},
   "outputs": [
    {
     "name": "stdout",
     "output_type": "stream",
     "text": [
      "{'int': 0, 'str': 0, 'bool': 0, 'list': 0, 'tuple': 0, 'dict': 0, 'set': 0}\n"
     ]
    }
   ],
   "source": [
    "veri = [\"a\", \"b\", True, (False, 1), {\"1\" : 2}, [1,2], {\"2\" : \"two\"}, {2, \"3\"}, \"c\", 23, 0]\n",
    "tipler = [\"int\", \"str\", \"bool\", \"list\", \"tuple\", \"dict\", \"set\"]\n",
    "say ={}\n",
    "\n",
    "\n",
    "for i in tipler:\n",
    "    say[i]=0\n",
    "print(say)\n",
    "\n"
   ]
  },
  {
   "cell_type": "code",
   "execution_count": 1,
   "metadata": {},
   "outputs": [
    {
     "data": {
      "text/plain": [
       "{'int': 0, 'str': 0, 'bool': 0, 'list': 0, 'tuple': 0, 'dict': 0, 'set': 0}"
      ]
     },
     "execution_count": 1,
     "metadata": {},
     "output_type": "execute_result"
    }
   ],
   "source": [
    "veri = [\"a\", \"b\", True, (False, 1), {\"1\" : 2}, [1,2], {\"2\" : \"two\"}, {2, \"3\"}, \"c\", 23, 0]\n",
    "tipler = [\"int\", \"str\", \"bool\", \"list\", \"tuple\", \"dict\", \"set\"]\n",
    "\n",
    "say = {}.fromkeys(tipler,0) # boş dit key ve value 0 ile doldur\n",
    "say"
   ]
  },
  {
   "cell_type": "code",
   "execution_count": 2,
   "metadata": {},
   "outputs": [
    {
     "data": {
      "text/plain": [
       "{'int': 2, 'str': 3, 'bool': 1, 'list': 0, 'tuple': 1, 'dict': 2, 'set': 1}"
      ]
     },
     "execution_count": 2,
     "metadata": {},
     "output_type": "execute_result"
    }
   ],
   "source": [
    "for i in range(len(veri)):\n",
    "    if type(veri[i])== int : say[\"int\"]+=1\n",
    "    elif type(veri[i])== str : say[\"str\"]+=1\n",
    "    elif type(veri[i])== bool : say[\"bool\"]+=1\n",
    "    elif type(veri[i])== tuple : say[\"tuple\"]+=1\n",
    "    elif type(veri[i])== dict : say[\"dict\"]+=1\n",
    "    elif type(veri[i])== set : say[\"set\"]+=1\n",
    "say"
   ]
  },
  {
   "cell_type": "code",
   "execution_count": 5,
   "metadata": {},
   "outputs": [],
   "source": [
    "import os\n",
    "\n"
   ]
  },
  {
   "cell_type": "code",
   "execution_count": 6,
   "metadata": {},
   "outputs": [
    {
     "data": {
      "text/plain": [
       "'c:\\\\Users\\\\Lost\\\\Desktop\\\\ClarusWay\\\\Python\\\\PythonFundementals'"
      ]
     },
     "execution_count": 6,
     "metadata": {},
     "output_type": "execute_result"
    }
   ],
   "source": [
    "pwd"
   ]
  },
  {
   "cell_type": "code",
   "execution_count": 11,
   "metadata": {},
   "outputs": [
    {
     "data": {
      "text/plain": [
       "['.git',\n",
       " '1- PythonBasics_Variables.ipynb',\n",
       " '2- PythonBasics_DataTypes.ipynb',\n",
       " '3- PythonBasics_RandomModule.ipynb',\n",
       " '4- PythonBasics_Strings.ipynb',\n",
       " '4- PythonBasics_StringsFormatting.ipynb',\n",
       " '4- PythonBasics_StringsMethods.ipynb',\n",
       " '5- PythonBasics_Functions.ipynb',\n",
       " '6- PythonBasics_Lists.ipynb',\n",
       " '6- PythonBasics_Package.ipynb',\n",
       " '7- PythonBasics_ExceptionHandling.ipynb',\n",
       " '8- PythonBasics_Files.ipynb',\n",
       " '9- PythonBasics.ipynb',\n",
       " 'dummy_file.txt',\n",
       " 'first_file.txt',\n",
       " 'fruits.txt',\n",
       " 'README.md',\n",
       " 'style.css']"
      ]
     },
     "execution_count": 11,
     "metadata": {},
     "output_type": "execute_result"
    }
   ],
   "source": [
    "dosya_icerigi = os.listdir()\n",
    "dosya_icerigi"
   ]
  },
  {
   "cell_type": "code",
   "execution_count": 14,
   "metadata": {},
   "outputs": [
    {
     "data": {
      "text/plain": [
       "'c:\\\\Users\\\\Lost\\\\Desktop\\\\ClarusWay\\\\Python\\\\PythonFundementals.zip'"
      ]
     },
     "execution_count": 14,
     "metadata": {},
     "output_type": "execute_result"
    }
   ],
   "source": [
    "import shutil\n",
    "\n",
    "shutil.make_archive(\"c:\\\\Users\\\\Lost\\\\Desktop\\\\ClarusWay\\\\Python\\\\PythonFundementals\", \"zip\", \"c:\\\\Users\\\\Lost\\\\Desktop\\\\ClarusWay\\\\Python\\\\PythonFundementals\")"
   ]
  },
  {
   "cell_type": "code",
   "execution_count": null,
   "metadata": {},
   "outputs": [],
   "source": []
  },
  {
   "cell_type": "code",
   "execution_count": null,
   "metadata": {},
   "outputs": [],
   "source": []
  },
  {
   "cell_type": "code",
   "execution_count": null,
   "metadata": {},
   "outputs": [],
   "source": []
  }
 ],
 "metadata": {
  "interpreter": {
   "hash": "9e420b6fa3fd7b9b81ddbcd254cb3b74e9e7beae700425c33bc97f90b494e529"
  },
  "kernelspec": {
   "display_name": "Python 3.9.2 64-bit",
   "language": "python",
   "name": "python3"
  },
  "language_info": {
   "codemirror_mode": {
    "name": "ipython",
    "version": 3
   },
   "file_extension": ".py",
   "mimetype": "text/x-python",
   "name": "python",
   "nbconvert_exporter": "python",
   "pygments_lexer": "ipython3",
   "version": "3.9.2"
  },
  "orig_nbformat": 4
 },
 "nbformat": 4,
 "nbformat_minor": 2
}
