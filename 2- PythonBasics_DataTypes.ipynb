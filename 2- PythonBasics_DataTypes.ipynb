{
 "cells": [
  {
   "cell_type": "markdown",
   "metadata": {},
   "source": [
    "Python Data Types\n",
    "\n",
    "Built-in Data Types\n",
    "In programming, data type is an important concept.\n",
    "\n",
    "Variables can store data of different types, and different types can do different things.\n",
    "\n",
    "Python has the following data types built-in by default, in these categories:\n",
    "\n",
    "Text Type       :\tstr\n",
    "Numeric Types   :\tint, float, complex\n",
    "Sequence Types  :\tlist, tuple, range\n",
    "Mapping Type    :\tdict\n",
    "Set Types       :\tset, frozenset\n",
    "Boolean Type    :\tbool\n",
    "Binary Types    :\tbytes, bytearray, memoryview\n",
    "\n",
    "You can get the data type of any object by using the type() function:"
   ]
  },
  {
   "cell_type": "code",
   "execution_count": 10,
   "metadata": {},
   "outputs": [
    {
     "name": "stdout",
     "output_type": "stream",
     "text": [
      "*******************Hello World********************\n"
     ]
    }
   ],
   "source": [
    "x = \"Hello World\"\t                            # str\t\n",
    "print(x.center(50,'*'))\n",
    "x = 20\t                                        # int\t\n",
    "x = 20.5\t                                    # float\t\n",
    "x = 1j\t                                        # complex\t\n",
    "x = [\"apple\", \"banana\", \"cherry\"]\t            # list\t\n",
    "x = (\"apple\", \"banana\", \"cherry\")\t            # tuple\t\n",
    "x = range(6)\t                                # range\t\n",
    "x = {\"name\" : \"John\", \"age\" : 36}\t            # dict\t\n",
    "x = {\"apple\", \"banana\", \"cherry\"}\t            # set\t\n",
    "x = frozenset({\"apple\", \"banana\", \"cherry\"})\t# frozenset\t\n",
    "x = True\t                                    # bool\t\n",
    "x = b\"Hello\"\t                                # bytes\t\n",
    "x = bytearray(5)\t                            # bytearray\n",
    "x = memoryview(bytes(5))                        # memoryview\n"
   ]
  },
  {
   "cell_type": "markdown",
   "metadata": {},
   "source": [
    "Python Numbers\n",
    "There are three numeric types in Python: int, float, complex\n",
    "\n",
    "Type Conversion: You can convert from one type to another with the int(), float(), and complex() methods\n",
    "\n",
    "Random Number\n",
    "Python does not have a random() function to make a random number, but Python has a built-in module called random that can be used to make random numbers:"
   ]
  },
  {
   "cell_type": "code",
   "execution_count": 54,
   "metadata": {},
   "outputs": [
    {
     "name": "stdout",
     "output_type": "stream",
     "text": [
      "7\n",
      "9\n",
      "4\n",
      "1\n"
     ]
    }
   ],
   "source": [
    "import random\n",
    "\n",
    "print(random.randrange(10)) # return a random number between 0-9(0 include but, not include 10 )\n",
    "print(random.randrange(4, 10)) # return a random number between 4-9\n",
    "print(random.randrange(0, 10, 2)) # return an even random number between 0-9\n",
    "print(random.randrange(1, 10, 2)) # return an odd random number between 0-9"
   ]
  }
 ],
 "metadata": {
  "interpreter": {
   "hash": "9e420b6fa3fd7b9b81ddbcd254cb3b74e9e7beae700425c33bc97f90b494e529"
  },
  "kernelspec": {
   "display_name": "Python 3.9.2 64-bit",
   "language": "python",
   "name": "python3"
  },
  "language_info": {
   "codemirror_mode": {
    "name": "ipython",
    "version": 3
   },
   "file_extension": ".py",
   "mimetype": "text/x-python",
   "name": "python",
   "nbconvert_exporter": "python",
   "pygments_lexer": "ipython3",
   "version": "3.9.2"
  },
  "orig_nbformat": 4
 },
 "nbformat": 4,
 "nbformat_minor": 2
}
