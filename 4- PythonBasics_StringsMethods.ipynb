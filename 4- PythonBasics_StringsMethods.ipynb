{
 "cells": [
  {
   "cell_type": "markdown",
   "metadata": {},
   "source": [
    "<link rel=\"stylesheet\" href=\"style.css\">\n",
    "<html lang=\"en\">\n",
    "<body>\n",
    "    <h1>Python String Methods</h1>\n",
    "    <div>\n",
    "        <ul>\n",
    "            <p></p>\n",
    "        </ul>\n",
    "    </div>\n",
    "</body>\n",
    "</html>"
   ]
  },
  {
   "cell_type": "code",
   "execution_count": 42,
   "metadata": {},
   "outputs": [
    {
     "data": {
      "text/plain": [
       "'Hello'"
      ]
     },
     "execution_count": 42,
     "metadata": {},
     "output_type": "execute_result"
    }
   ],
   "source": [
    "# capitalize()\tConverts the first character to upper case\n",
    "\n",
    "str = \"hello\"\n",
    "str.capitalize()\n"
   ]
  },
  {
   "cell_type": "code",
   "execution_count": 43,
   "metadata": {},
   "outputs": [
    {
     "data": {
      "text/plain": [
       "'hello wordld'"
      ]
     },
     "execution_count": 43,
     "metadata": {},
     "output_type": "execute_result"
    }
   ],
   "source": [
    "# casefold()\tConverts string into lower case\n",
    "str = \"HELLo WOrdld\"\n",
    "str.casefold()"
   ]
  },
  {
   "cell_type": "code",
   "execution_count": 44,
   "metadata": {},
   "outputs": [
    {
     "data": {
      "text/plain": [
       "'****HELLO WORLD*****'"
      ]
     },
     "execution_count": 44,
     "metadata": {},
     "output_type": "execute_result"
    }
   ],
   "source": [
    "# center()\tReturns a centered string\n",
    "# string.center(length, character)\n",
    "\n",
    "str = \"HELLo WOrld\".upper()\n",
    "str.center(20,\"*\")"
   ]
  },
  {
   "cell_type": "code",
   "execution_count": 45,
   "metadata": {},
   "outputs": [
    {
     "name": "stdout",
     "output_type": "stream",
     "text": [
      "2\n"
     ]
    }
   ],
   "source": [
    "# count()\tReturns the number of times a specified value occurs in a string\n",
    "# string.count(value, start, end)\n",
    "\"\"\"\n",
    "Parameter\tDescription\n",
    "value\tRequired. A String. The string to value to search for\n",
    "start\tOptional. An Integer. The position to start the search. Default is 0\n",
    "end\t    Optional. An Integer. The position to end the search. Default is the end of the string\n",
    "\n",
    "\"\"\"\n",
    "\n",
    "str = \"I love apples, apple are my favorite fruit\"\n",
    "\n",
    "x = str.count(\"apple\", 1, 24)\n",
    "\n",
    "print(x)"
   ]
  },
  {
   "cell_type": "code",
   "execution_count": 46,
   "metadata": {},
   "outputs": [
    {
     "name": "stdout",
     "output_type": "stream",
     "text": [
      "b'My name is St\\\\xe5le'\n",
      "b'My name is Stle'\n",
      "b'My name is St\\\\N{LATIN SMALL LETTER A WITH RING ABOVE}le'\n",
      "b'My name is St?le'\n",
      "b'My name is St&#229;le'\n"
     ]
    }
   ],
   "source": [
    "# encode()\tReturns an encoded version of the string\n",
    "# string.encode(encoding=encoding, errors=errors)\n",
    "\"\"\"\n",
    "Parameter\tDescription\n",
    "encoding\tOptional. A String specifying the encoding to use. Default is UTF-8\n",
    "errors\t    Optional. A String specifying the error method. Legal values are:\n",
    "                'backslashreplace'\t- uses a backslash instead of the character that could not be encoded\n",
    "                'ignore'\t- ignores the characters that cannot be encoded\n",
    "                'namereplace'\t- replaces the character with a text explaining the character\n",
    "                'strict'\t- Default, raises an error on failure\n",
    "                'replace'\t- replaces the character with a questionmark\n",
    "                'xmlcharrefreplace'\t- replaces the character with an xml character\n",
    "\"\"\"\n",
    "\n",
    "str = \"My name is Ståle\"\n",
    "\n",
    "print(str.encode(encoding=\"ascii\",errors=\"backslashreplace\"))\n",
    "print(str.encode(encoding=\"ascii\",errors=\"ignore\"))\n",
    "print(str.encode(encoding=\"ascii\",errors=\"namereplace\"))\n",
    "print(str.encode(encoding=\"ascii\",errors=\"replace\"))\n",
    "print(str.encode(encoding=\"ascii\",errors=\"xmlcharrefreplace\"))"
   ]
  },
  {
   "cell_type": "code",
   "execution_count": 47,
   "metadata": {},
   "outputs": [
    {
     "name": "stdout",
     "output_type": "stream",
     "text": [
      "31\n",
      "True\n",
      "True\n",
      "False\n"
     ]
    }
   ],
   "source": [
    "# endswith()\tReturns true if the string ends with the specified value\n",
    "# string.endswith(value, start, end)\n",
    "\"\"\" \n",
    "Parameter\tDescription\n",
    "value\t    Required. The value to check if the string ends with\n",
    "start\t    Optional. An Integer specifying at which position to start the search\n",
    "end\t        Optional. An Integer specifying at which position to end the search \n",
    "\"\"\"\n",
    "str = \"Hello, welcome to Python World!\"\n",
    "print(len(str))\n",
    "print(str.endswith(\"!\"))\n",
    "print(str.endswith(\"World!\", 5, 31))\n",
    "print(str.endswith(\"World!\", 5, 30))"
   ]
  },
  {
   "cell_type": "code",
   "execution_count": 149,
   "metadata": {},
   "outputs": [
    {
     "name": "stdout",
     "output_type": "stream",
     "text": [
      "True\n"
     ]
    }
   ],
   "source": [
    "# startswith()\tReturns true if the string starts with the specified value\n",
    "# string.startswith(value, start, end)\n",
    "\"\"\" \n",
    "Parameter\tDescription\n",
    "value\t    Required. The value to check if the string ends with\n",
    "start\t    Optional. An Integer specifying at which position to start the search\n",
    "end\t        Optional. An Integer specifying at which position to end the search \n",
    "\"\"\"\n",
    "\n",
    "txt = \"Hello, welcome to my world.\"\n",
    "x = txt.startswith(\"wel\", 7, 20)\n",
    "print(x)"
   ]
  },
  {
   "cell_type": "code",
   "execution_count": 48,
   "metadata": {},
   "outputs": [
    {
     "name": "stdout",
     "output_type": "stream",
     "text": [
      "H e l l o\n",
      "H   e   l   l   o\n",
      "H     e     l     l     o\n",
      "H       e       l       l       o\n",
      "H         e         l         l         o\n"
     ]
    }
   ],
   "source": [
    "# expandtabs()\tSets the tab size of the string\n",
    "# string.expandtabs(tabsize)\n",
    "# tabsize\tOptional. A number specifying the tabsize. Default tabsize is 8\n",
    "\n",
    "str = \"H\\te\\tl\\tl\\to\"\n",
    "# print(str) # default tab size 8\n",
    "# print(str.expandtabs()) # default tab size 8\n",
    "\n",
    "print(str.expandtabs(2))\n",
    "print(str.expandtabs(4))\n",
    "print(str.expandtabs(6))\n",
    "print(str.expandtabs()) # default tab size 8\n",
    "print(str.expandtabs(10))"
   ]
  },
  {
   "cell_type": "code",
   "execution_count": 49,
   "metadata": {},
   "outputs": [
    {
     "name": "stdout",
     "output_type": "stream",
     "text": [
      "7\n",
      "-1\n",
      "25\n",
      "-1\n"
     ]
    }
   ],
   "source": [
    "# find()\tSearches the string for a specified value and returns the position of where it was found\n",
    "# The find() method finds the first occurrence of the specified value.\n",
    "# The find() method returns -1 if the value is not found.\n",
    "# The find() method is almost the same as the index() method, the only difference is that the index() method raises an exception if the value is not found. (See example below)\n",
    "# string.find(value, start, end)\n",
    "\n",
    "\"\"\"\n",
    "Parameter\tDescription\n",
    "value\t    Required. The value to search for\n",
    "start\t    Optional. Where to start the search. Default is 0\n",
    "end\t        Optional. Where to end the search. Default is to the end of the string \n",
    "\n",
    "\"\"\"\n",
    "str = \"Hello, welcome to Python world!\"\n",
    "print(str.find(\"w\"))\n",
    "print(str.find(\"w\",10,20))\n",
    "print(str.find(\"w\",10,))\n",
    "print(str.find(\"f\")) # If the value is not found, find() returns -1\n",
    "# print(str.index(\"f\")) # If the value is not found, the index() method will raise an exception:\n",
    "\n"
   ]
  },
  {
   "cell_type": "code",
   "execution_count": 139,
   "metadata": {},
   "outputs": [
    {
     "name": "stdout",
     "output_type": "stream",
     "text": [
      "13\n",
      "-1\n"
     ]
    }
   ],
   "source": [
    "# rfind()\tSearches the string for a specified value and returns the last position of where it was found\n",
    "# string.rfind(value, start, end)\n",
    "\"\"\"\n",
    "value\tRequired. The value to search for\n",
    "start\tOptional. Where to start the search. Default is 0\n",
    "end\t    Optional. Where to end the search. Default is to the end of the string\n",
    "\n",
    "The rfind() method finds the last occurrence of the specified value.\n",
    "The rfind() method returns -1 if the value is not found.\n",
    "The rfind() method is almost the same as the rindex() method. See example below\n",
    "\"\"\"\n",
    "txt = \"Hello, welcome to my world.\"\n",
    "x = txt.rfind(\"e\")\n",
    "print(x)\n",
    "\n",
    "txt = \"Hello, welcome to my world.\"\n",
    "print(txt.rfind(\"q\"))\n",
    "# print(txt.rindex(\"q\"))"
   ]
  },
  {
   "cell_type": "code",
   "execution_count": 52,
   "metadata": {},
   "outputs": [
    {
     "name": "stdout",
     "output_type": "stream",
     "text": [
      "7\n",
      "25\n"
     ]
    }
   ],
   "source": [
    "# index()\tSearches the string for a specified value and returns the position of where it was found\n",
    "# string.index(value, start, end)\n",
    "\"\"\"\n",
    "value\tRequired. The value to search for\n",
    "start\tOptional. Where to start the search. Default is 0\n",
    "end\t    Optional. Where to end the search. Default is to the end of the string\n",
    "\n",
    "\"\"\"\n",
    "str = \"Hello, welcome to Python world!\"\n",
    "print(str.index(\"w\"))\n",
    "print(str.index(\"w\",10,30))"
   ]
  },
  {
   "cell_type": "code",
   "execution_count": 140,
   "metadata": {},
   "outputs": [
    {
     "name": "stdout",
     "output_type": "stream",
     "text": [
      "25\n",
      "25\n"
     ]
    }
   ],
   "source": [
    "# rindex()\tSearches the string for a specified value and returns the last position of where it was found\n",
    "# string.rindex(value, start, end)\n",
    "\"\"\"\n",
    "The rindex() method finds the last occurrence of the specified value.\n",
    "The rindex() method raises an exception if the value is not found.\n",
    "The rindex() method is almost the same as the rfind() method.\n",
    "\"\"\"\n",
    "str = \"Hello, welcome to Python world!\"\n",
    "print(str.rindex(\"w\"))\n",
    "print(str.rindex(\"w\",10,30))"
   ]
  },
  {
   "cell_type": "code",
   "execution_count": 56,
   "metadata": {},
   "outputs": [
    {
     "name": "stdout",
     "output_type": "stream",
     "text": [
      "False\n",
      "False\n"
     ]
    }
   ],
   "source": [
    "# isalnum()\tReturns True if all characters in the string are alphanumeric\n",
    "# alphanumeric meaning that alphabet letter (a-z) and numbers (0-9)\n",
    "\n",
    "str = \"Hello, welcome to Python world!\"\n",
    "print(str.isalnum())  # characters that are not alphanumeric: (space) ! # % & ? , . () etc.\n",
    "str = \"HelloWorld2021\"\n",
    "print(str.isalnum())"
   ]
  },
  {
   "cell_type": "code",
   "execution_count": 58,
   "metadata": {},
   "outputs": [
    {
     "name": "stdout",
     "output_type": "stream",
     "text": [
      "True\n",
      "False\n"
     ]
    }
   ],
   "source": [
    "# isalpha()\tReturns True if all characters in the string are in the alphabet\n",
    "\n",
    "str = \"HelloWorld\"\n",
    "print(str.isalpha())\n",
    "str = \"Hello World\"\n",
    "print(str.isalpha())"
   ]
  },
  {
   "cell_type": "code",
   "execution_count": 65,
   "metadata": {},
   "outputs": [
    {
     "name": "stdout",
     "output_type": "stream",
     "text": [
      "False\n",
      "False\n",
      "-------------------\n",
      "True\n",
      "True\n"
     ]
    }
   ],
   "source": [
    "# isdecimal()\tReturns True if all characters in the string are decimals (0-9).\n",
    "\n",
    "str = \"HelloWorld\"\n",
    "print(str.isdecimal())\n",
    "str = \"\\u0047\" #unicode for G\n",
    "print(str.isdecimal())\n",
    "print(\"-------------------\")\n",
    "str = \"1234\"\n",
    "print(str.isdecimal())\n",
    "str = \"\\u0030\" #unicode for 0\n",
    "print(str.isdecimal())\n"
   ]
  },
  {
   "cell_type": "code",
   "execution_count": 67,
   "metadata": {},
   "outputs": [
    {
     "name": "stdout",
     "output_type": "stream",
     "text": [
      "True\n",
      "True\n",
      "False\n"
     ]
    }
   ],
   "source": [
    "# isdigit()\tReturns True if all characters in the string are digits\n",
    "# The isdigit() method returns True if all the characters are digits, otherwise False.\n",
    "# Exponents, like ², are also considered to be a digit.\n",
    "\n",
    "a = \"\\u0030\" #unicode for 0\n",
    "b = \"\\u00B2\" #unicode for ²\n",
    "c = \"Hi\"\n",
    "\n",
    "print(a.isdigit())\n",
    "print(b.isdigit())\n",
    "print(c.isdigit())"
   ]
  },
  {
   "cell_type": "code",
   "execution_count": 72,
   "metadata": {},
   "outputs": [
    {
     "name": "stdout",
     "output_type": "stream",
     "text": [
      "True\n",
      "True\n",
      "False\n",
      "False\n",
      "True\n",
      "False\n"
     ]
    }
   ],
   "source": [
    "# isidentifier()\tReturns True if the string is an identifier\n",
    "\"\"\"\n",
    "The isidentifier() method returns True if the string is a valid identifier, otherwise False.\n",
    "A string is considered a valid identifier if it only contains alphanumeric letters (a-z) and (0-9), or underscores (_). \n",
    "A valid identifier cannot start with a number, or contain any spaces.\n",
    "\"\"\"\n",
    "a = \"MyWorld\"\n",
    "b = \"World2021\"\n",
    "c = \"2bring\"\n",
    "d = \"my demo\" # space is not dentifier\n",
    "e = \"Hello_World\"\n",
    "f = \"123Hello_World\"\n",
    "\n",
    "print(a.isidentifier())\n",
    "print(b.isidentifier())\n",
    "print(c.isidentifier())\n",
    "print(d.isidentifier())\n",
    "print(e.isidentifier())\n",
    "print(f.isidentifier())"
   ]
  },
  {
   "cell_type": "code",
   "execution_count": 74,
   "metadata": {},
   "outputs": [
    {
     "name": "stdout",
     "output_type": "stream",
     "text": [
      "False\n",
      "True\n",
      "True\n"
     ]
    }
   ],
   "source": [
    "# islower()\tReturns True if all characters in the string are lower case\n",
    "# Numbers, symbols and spaces are not checked, only alphabet characters.\n",
    "a = \"Hello world!\"\n",
    "b = \"hello 123\" # Numbers, symbols and spaces are not checked, only alphabet characters.\n",
    "c = \"mynameispeter\"\n",
    "\n",
    "print(a.islower())\n",
    "print(b.islower())\n",
    "print(c.islower())"
   ]
  },
  {
   "cell_type": "code",
   "execution_count": 81,
   "metadata": {},
   "outputs": [
    {
     "name": "stdout",
     "output_type": "stream",
     "text": [
      "True\n",
      "True\n",
      "False\n",
      "False\n",
      "False\n"
     ]
    }
   ],
   "source": [
    "# isnumeric()\tReturns True if all characters in the string are numeric (0-9), otherwise False.\n",
    "# Exponents, like ² and ¾ are also considered to be numeric values.\n",
    "# \"-1\" and \"1.5\" are NOT considered numeric values, because:\n",
    "# all the characters in the string must be numeric, and the - and the . are not.\n",
    "\n",
    "a = \"\\u0030\" #unicode for 0\n",
    "b = \"\\u00B2\" #unicode for 2;\n",
    "c = \"10km2\"\n",
    "d = \"-1\"\n",
    "e = \"1.5\"\n",
    "\n",
    "print(a.isnumeric())\n",
    "print(b.isnumeric())\n",
    "print(c.isnumeric())\n",
    "print(d.isnumeric())\n",
    "print(e.isnumeric())"
   ]
  },
  {
   "cell_type": "code",
   "execution_count": 89,
   "metadata": {},
   "outputs": [
    {
     "name": "stdout",
     "output_type": "stream",
     "text": [
      "Hello! Are you #1?\n",
      "True\n",
      "------------------------\n",
      "Hello! Are \n",
      "you #1?\n",
      "False\n"
     ]
    }
   ],
   "source": [
    "# isprintable()\tReturns True if all characters in the string are printable\n",
    "\n",
    "str = \"Hello! Are you #1?\"\n",
    "print(str)\n",
    "x= str.isprintable()\n",
    "print(x)\n",
    "print(\"------------------------\")\n",
    "str = \"Hello! Are \\nyou #1?\"\n",
    "print(str)\n",
    "x= str.isprintable()\n",
    "print(x)"
   ]
  },
  {
   "cell_type": "code",
   "execution_count": 90,
   "metadata": {},
   "outputs": [
    {
     "data": {
      "text/plain": [
       "True"
      ]
     },
     "execution_count": 90,
     "metadata": {},
     "output_type": "execute_result"
    }
   ],
   "source": [
    "# isspace()\tReturns True if all characters in the string are whitespaces\n",
    "\n",
    "str = \"            \"\n",
    "str.isspace()"
   ]
  },
  {
   "cell_type": "code",
   "execution_count": 92,
   "metadata": {},
   "outputs": [
    {
     "name": "stdout",
     "output_type": "stream",
     "text": [
      "False\n",
      "True\n"
     ]
    }
   ],
   "source": [
    "# istitle()\tReturns True if the string follows the rules of a title\n",
    "\n",
    "str = \"Hello, welcome to Python world!\"\n",
    "print(str.istitle())\n",
    "str = \"Hello, welcome to Python world!\".title()\n",
    "print(str.istitle())"
   ]
  },
  {
   "cell_type": "code",
   "execution_count": 94,
   "metadata": {},
   "outputs": [
    {
     "name": "stdout",
     "output_type": "stream",
     "text": [
      "False\n",
      "True\n"
     ]
    }
   ],
   "source": [
    "# isupper()\tReturns True if all characters in the string are upper case\n",
    "\n",
    "str = \"Hello, welcome to Python world!\"\n",
    "print(str.isupper())\n",
    "str = \"Hello, welcome to Python world!\".upper()\n",
    "print(str.isupper())"
   ]
  },
  {
   "cell_type": "code",
   "execution_count": 98,
   "metadata": {},
   "outputs": [
    {
     "name": "stdout",
     "output_type": "stream",
     "text": [
      "John#Peter#Vicky\n",
      "nameTESTcountry\n"
     ]
    }
   ],
   "source": [
    "# join()\tJoins the elements of an iterable to the end of the string\n",
    "# The join() method takes all items in an iterable and joins them into one string.\n",
    "# A string must be specified as the separator.\n",
    "# string.join(iterable)\n",
    "\n",
    "myTuple = (\"John\", \"Peter\", \"Vicky\")\n",
    "x = \"#\".join(myTuple)\n",
    "print(x)\n",
    "\n",
    "myDict = {\"name\": \"John\", \"country\": \"Norway\"}\n",
    "mySeparator = \"TEST\"\n",
    "x = mySeparator.join(myDict)\n",
    "print(x)"
   ]
  },
  {
   "cell_type": "code",
   "execution_count": 102,
   "metadata": {},
   "outputs": [
    {
     "name": "stdout",
     "output_type": "stream",
     "text": [
      "J-o-h-n\n"
     ]
    }
   ],
   "source": [
    "myDict = {\"name\": \"John\", \"country\": \"Norway\"}\n",
    "mySeparator = \"-\"\n",
    "x = mySeparator.join(myDict[\"name\"])\n",
    "print(x)\n"
   ]
  },
  {
   "cell_type": "code",
   "execution_count": 105,
   "metadata": {},
   "outputs": [
    {
     "data": {
      "text/plain": [
       "'Hello, welcome to Python world!-------------------'"
      ]
     },
     "execution_count": 105,
     "metadata": {},
     "output_type": "execute_result"
    }
   ],
   "source": [
    "# ljust()\tReturns a left justified version of the string\n",
    "# string.ljust(length, character)\n",
    "\"\"\"\n",
    "length\t    Required. The length of the returned string\n",
    "character\tOptional. A character to fill the missing space (to the right of the string). Default is \" \" (space).\n",
    "\"\"\"\n",
    "\n",
    "str = \"Hello, welcome to Python world!\"\n",
    "str.ljust(50,\"-\")\n",
    "\n"
   ]
  },
  {
   "cell_type": "code",
   "execution_count": 106,
   "metadata": {},
   "outputs": [
    {
     "data": {
      "text/plain": [
       "'-------------------Hello, welcome to Python world!'"
      ]
     },
     "execution_count": 106,
     "metadata": {},
     "output_type": "execute_result"
    }
   ],
   "source": [
    "# rjust()\tReturns a right justified version of the string\n",
    "# string.rjust(length, character)\n",
    "\"\"\"\n",
    "length\t    Required. The length of the returned string\n",
    "character\tOptional. A character to fill the missing space (to the left of the string). Default is \" \" (space).\n",
    "\"\"\"\n",
    "str = \"Hello, welcome to Python world!\"\n",
    "str.rjust(50,\"-\")"
   ]
  },
  {
   "cell_type": "code",
   "execution_count": 107,
   "metadata": {},
   "outputs": [
    {
     "data": {
      "text/plain": [
       "'hello, welcome to python world!'"
      ]
     },
     "execution_count": 107,
     "metadata": {},
     "output_type": "execute_result"
    }
   ],
   "source": [
    "# lower()\tConverts a string into lower case\n",
    "# Symbols and Numbers are ignored.\n",
    "\n",
    "str = \"Hello, welcome to Python world!\"\n",
    "str.lower()"
   ]
  },
  {
   "cell_type": "code",
   "execution_count": 108,
   "metadata": {},
   "outputs": [
    {
     "data": {
      "text/plain": [
       "'HELLO, WELCOME TO PYTHON WORLD!'"
      ]
     },
     "execution_count": 108,
     "metadata": {},
     "output_type": "execute_result"
    }
   ],
   "source": [
    "# upper()\tConverts a string into upper case\n",
    "# Symbols and Numbers are ignored.\n",
    "\n",
    "str = \"Hello, welcome to Python world!\"\n",
    "str.upper()"
   ]
  },
  {
   "cell_type": "code",
   "execution_count": 150,
   "metadata": {},
   "outputs": [
    {
     "name": "stdout",
     "output_type": "stream",
     "text": [
      "Hello My Name Is PETER\n",
      "hELLO mY nAME iS peter\n"
     ]
    }
   ],
   "source": [
    "# swapcase()\tSwaps cases, lower case becomes upper case and vice versa\n",
    "\n",
    "txt = \"Hello My Name Is PETER\"\n",
    "print(txt)\n",
    "x = txt.swapcase()\n",
    "print(x)"
   ]
  },
  {
   "cell_type": "code",
   "execution_count": 112,
   "metadata": {},
   "outputs": [
    {
     "name": "stdout",
     "output_type": "stream",
     "text": [
      "banana\n",
      "nana\n",
      "kssaaww.....banana\n"
     ]
    }
   ],
   "source": [
    "# lstrip()\tReturns a left trim version of the string\n",
    "# The lstrip() method removes any leading characters (space is the default leading character to remove)\n",
    "# string.lstrip(characters)\n",
    "\n",
    "txt = \",,,,,ssaaww.....banana\"\n",
    "x = txt.lstrip(\",.asw\")\n",
    "print(x)\n",
    "x = txt.lstrip(\",.aswb\")\n",
    "print(x)\n",
    "txt = \",,,,,kssaaww.....banana\"\n",
    "x = txt.lstrip(\",.asw\")\n",
    "print(x)"
   ]
  },
  {
   "cell_type": "code",
   "execution_count": 114,
   "metadata": {},
   "outputs": [
    {
     "name": "stdout",
     "output_type": "stream",
     "text": [
      "banana\n",
      "banana,,,t\n"
     ]
    }
   ],
   "source": [
    "# rstrip()\tReturns a right trim version of the string\n",
    "# string.rstrip(characters)\n",
    "# The rstrip() method removes any trailing characters (characters at the end a string),\n",
    "# space is the default trailing character to remove.\n",
    "\n",
    "txt = \"banana,,,,,ssqqqww.....\"\n",
    "x = txt.rstrip(\",.qsw\")\n",
    "print(x)\n",
    "\n",
    "txt = \"banana,,,t,,ssqqqww.....\"\n",
    "x = txt.rstrip(\",.qsw\")\n",
    "print(x)\n"
   ]
  },
  {
   "cell_type": "code",
   "execution_count": 120,
   "metadata": {},
   "outputs": [
    {
     "name": "stdout",
     "output_type": "stream",
     "text": [
      "banana\n",
      "anana\n",
      "nan\n"
     ]
    }
   ],
   "source": [
    "# strip()\tReturns a trimmed version of the string\n",
    "# The strip() method removes any leading (spaces at the beginning) and trailing (spaces at the end) characters\n",
    "# (space is the default leading character to remove)\n",
    "\n",
    "txt = \"     banana     \"\n",
    "x = txt.strip()\n",
    "print(x)\n",
    "\n",
    "txt = \",,,,,rrttgg.....banana....rrr\"\n",
    "x = txt.strip(\",.grtb\")\n",
    "print(x)\n",
    "\n",
    "txt = \",,,,,rrttgg.....banana....rrr\"\n",
    "x = txt.strip(\"a,.grtb\")\n",
    "print(x)"
   ]
  },
  {
   "cell_type": "code",
   "execution_count": 130,
   "metadata": {},
   "outputs": [
    {
     "name": "stdout",
     "output_type": "stream",
     "text": [
      "Hello Pam!\n",
      "----------------------\n",
      "Hi Joe!\n",
      "-------------------\n",
      "G i Joe!\n"
     ]
    }
   ],
   "source": [
    "# maketrans()\tReturns a translation table to be used in translations\n",
    "# The maketrans() method returns a mapping table that can be used with the translate() method to replace specified characters.\n",
    "# string.maketrans(x, y, z)\n",
    "\n",
    "txt = \"Hello Sam!\"\n",
    "mytable = txt.maketrans(\"S\", \"P\")\n",
    "print(txt.translate(mytable))\n",
    "print(\"----------------------\")\n",
    "\n",
    "\"\"\"\n",
    "Parameter\tDescription\n",
    "x\t        Required. If only one parameter is specified, this has to be a dictionary describing how to perform the replace. If two or more parameters are specified, this parameter has to be a string specifying the characters you want to replace.\n",
    "y\t        Optional. A string with the same length as parameter x. Each character in the first parameter will be replaced with the corresponding character in this string.\n",
    "z\t        Optional. A string describing which characters to remove from the original string.\n",
    "\"\"\"\n",
    "txt = \"Hi Sam!\"\n",
    "x = \"mSa\"\n",
    "y = \"eJo\"\n",
    "mytable = txt.maketrans(x, y)\n",
    "print(txt.translate(mytable))\n",
    "print(\"-------------------\")\n",
    "\n",
    "# The third parameter in the mapping table describes characters that you want to remove from the string:\n",
    "\n",
    "txt = \"Good night Sam!\"\n",
    "x = \"mSa\"\n",
    "y = \"eJo\"\n",
    "z = \"odnght\"\n",
    "mytable = txt.maketrans(x, y, z)\n",
    "print(txt.translate(mytable))"
   ]
  },
  {
   "cell_type": "code",
   "execution_count": 131,
   "metadata": {},
   "outputs": [
    {
     "name": "stdout",
     "output_type": "stream",
     "text": [
      "G i Je!\n"
     ]
    }
   ],
   "source": [
    "txt = \"Good night Sam!\"\n",
    "x = \"mSa\"\n",
    "y = \"eJo\"\n",
    "z = \"aodnght\" # add \"a\"\n",
    "mytable = txt.maketrans(x, y, z)\n",
    "print(txt.translate(mytable))"
   ]
  },
  {
   "cell_type": "code",
   "execution_count": 161,
   "metadata": {},
   "outputs": [
    {
     "name": "stdout",
     "output_type": "stream",
     "text": [
      "before: Hello Sam!\n",
      "after: Hello Pam!\n",
      "------------------\n",
      "Hello Sam!\n",
      "Hello Pam!\n",
      "-----------------\n",
      "Hi Sam!\n",
      "mytable: {109: 101, 83: 74, 97: 111}\n",
      "Hi Joe!\n"
     ]
    }
   ],
   "source": [
    "# translate()\tReturns a translated string\n",
    "# string.translate(table)\n",
    "# table\tRequired. Either a dictionary, or a mapping table describing how to perform the replace\n",
    "\"\"\"\n",
    "Definition and Usage\n",
    "The translate() method returns a string where some specified characters are replaced with the character described in a dictionary, or in a mapping table.\n",
    "Use the maketrans() method to create a mapping table.\n",
    "If a character is not specified in the dictionary/table, the character will not be replaced.\n",
    "If you use a dictionary, you must use ascii codes instead of characters.\n",
    "\"\"\"\n",
    "#use a dictionary with ascii codes to replace 83 (S) with 80 (P):\n",
    "mydict = {83:  80}\n",
    "txt = \"Hello Sam!\"\n",
    "print(\"before:\", txt)\n",
    "print(\"after:\", txt.translate(mydict))\n",
    "print(\"------------------\")\n",
    "\n",
    "txt = \"Hello Sam!\"\n",
    "print(txt)\n",
    "mytable = txt.maketrans(\"S\", \"P\")\n",
    "print(txt.translate(mytable))\n",
    "print(\"-----------------\")\n",
    "\n",
    "txt = \"Hi Sam!\"\n",
    "print(txt)\n",
    "x = \"mSa\"\n",
    "y = \"eJo\"\n",
    "mytable = txt.maketrans(x, y)\n",
    "print(\"mytable:\", mytable) #use a dictionary with ascii codes to replace\n",
    "print(txt.translate(mytable))"
   ]
  },
  {
   "cell_type": "code",
   "execution_count": 135,
   "metadata": {},
   "outputs": [
    {
     "name": "stdout",
     "output_type": "stream",
     "text": [
      "('I could eat ', 'bananas', ' all day')\n",
      "-------------\n",
      "('I could eat bananas all day', '', '')\n"
     ]
    }
   ],
   "source": [
    "# partition()\tReturns a tuple where the string is parted into three parts\n",
    "# string.partition(value)\n",
    "# This method searches for the first occurrence of the specified string.\n",
    "\"\"\"\n",
    "The partition() method searches for a specified string, and splits the string into a tuple containing three elements.\n",
    "The first element contains the part before the specified string.\n",
    "The second element contains the specified string.\n",
    "The third element contains the part after the string.\n",
    "\"\"\"\n",
    "txt = \"I could eat bananas all day\"\n",
    "x = txt.partition(\"bananas\")\n",
    "print(x)\n",
    "print(\"-------------\")\n",
    "\n",
    "# If the specified value is not found, the partition() method returns a tuple containing:\n",
    "# 1 - the whole string, 2 - an empty string, 3 - an empty string:\n",
    "txt = \"I could eat bananas all day\"\n",
    "x = txt.partition(\"apples\")\n",
    "print(x)\n"
   ]
  },
  {
   "cell_type": "code",
   "execution_count": 141,
   "metadata": {},
   "outputs": [
    {
     "name": "stdout",
     "output_type": "stream",
     "text": [
      "('I could eat bananas all day, ', 'bananas', ' are my favorite fruit')\n"
     ]
    }
   ],
   "source": [
    "# rpartition()\tReturns a tuple where the string is parted into three parts\n",
    "# This method searches for the last occurrence of the specified string.\n",
    "\"\"\"\n",
    "The rpartition() method searches for a specified string, and splits the string into a tuple containing three elements.\n",
    "The first element contains the part before the specified string.\n",
    "The second element contains the specified string.\n",
    "The third element contains the part after the string.\n",
    "\"\"\"\n",
    "txt = \"I could eat bananas all day, bananas are my favorite fruit\"\n",
    "x = txt.rpartition(\"bananas\")\n",
    "print(x)"
   ]
  },
  {
   "cell_type": "code",
   "execution_count": 136,
   "metadata": {},
   "outputs": [
    {
     "name": "stdout",
     "output_type": "stream",
     "text": [
      "three three was a race horse, two two was three too.\n"
     ]
    }
   ],
   "source": [
    "# replace()\tReturns a string where a specified value is replaced with a specified value\n",
    "# string.replace(oldvalue, newvalue, count)\n",
    "\"\"\"\n",
    "Parameter\tDescription\n",
    "oldvalue\tRequired. The string to search for\n",
    "newvalue\tRequired. The string to replace the old value with\n",
    "count\t    Optional. A number specifying how many occurrences of the old value you want to replace. \n",
    "            Default is all occurrences\n",
    "\"\"\"\n",
    "txt = \"one one was a race horse, two two was one too.\"\n",
    "x = txt.replace(\"one\", \"three\")\n",
    "print(x)"
   ]
  },
  {
   "cell_type": "code",
   "execution_count": 143,
   "metadata": {},
   "outputs": [
    {
     "name": "stdout",
     "output_type": "stream",
     "text": [
      "['hello', 'my name is Peter', 'I am 26 years old']\n",
      "['apple', 'banana#cherry#orange']\n"
     ]
    }
   ],
   "source": [
    "# split()\tSplits the string at the specified separator, and returns a list\n",
    "# You can specify the separator, default separator is any whitespace.\n",
    "# When maxsplit is specified, the list will contain the specified number of elements plus one.\n",
    "# string.split(separator, maxsplit)\n",
    "\"\"\"\n",
    "separator\tOptional. Specifies the separator to use when splitting the string. By default any whitespace is a separator\n",
    "maxsplit\tOptional. Specifies how many splits to do. Default value is -1, which is \"all occurrences\"\n",
    "\"\"\"\n",
    "txt = \"hello, my name is Peter, I am 26 years old\"\n",
    "x = txt.split(\", \")\n",
    "print(x)\n",
    "\n",
    "txt = \"apple#banana#cherry#orange\"\n",
    "# setting the maxsplit parameter to 1, will return a list with 2 elements!\n",
    "x = txt.split(\"#\", 1)\n",
    "\n",
    "print(x)"
   ]
  },
  {
   "cell_type": "code",
   "execution_count": 145,
   "metadata": {},
   "outputs": [
    {
     "name": "stdout",
     "output_type": "stream",
     "text": [
      "['hello', 'my name is Peter', 'I am 26 years old']\n",
      "['apple#banana', 'cherry', 'orange']\n"
     ]
    }
   ],
   "source": [
    "# rsplit()\tSplits the string at the specified separator, and returns a list\n",
    "# You can specify the separator, default separator is any whitespace.\n",
    "# When maxsplit is specified, the list will contain the specified number of elements plus one.\n",
    "# string.split(separator, maxsplit)\n",
    "\"\"\"\n",
    "separator\tOptional. Specifies the separator to use when splitting the string. By default any whitespace is a separator\n",
    "maxsplit\tOptional. Specifies how many splits to do. Default value is -1, which is \"all occurrences\"\n",
    "\"\"\"\n",
    "txt = \"hello, my name is Peter, I am 26 years old\"\n",
    "x = txt.rsplit(\", \")\n",
    "print(x)\n",
    "\n",
    "txt = \"apple#banana#cherry#orange\"\n",
    "# setting the maxsplit parameter to 1, will return a list with 2 elements!\n",
    "x = txt.rsplit(\"#\", 2)\n",
    "\n",
    "print(x)"
   ]
  },
  {
   "cell_type": "code",
   "execution_count": 148,
   "metadata": {},
   "outputs": [
    {
     "name": "stdout",
     "output_type": "stream",
     "text": [
      "['Thank you for the music', 'Welcome to the jungle']\n",
      "---------\n",
      "['Thank you for the music\\n', 'Welcome to the jungle']\n"
     ]
    }
   ],
   "source": [
    "# splitlines()\tSplits the string at line breaks and returns a list\n",
    "\n",
    "txt = \"Thank you for the music\\nWelcome to the jungle\"\n",
    "x = txt.splitlines()\n",
    "print(x)\n",
    "print(\"---------\")\n",
    "# string.splitlines(keeplinebreaks)\n",
    "# keeplinebreaks - optional\t\n",
    "# keeplinebreaks: Specifies if the line breaks should be included (True), or not (False). Default value is False\n",
    "txt = \"Thank you for the music\\nWelcome to the jungle\"\n",
    "x = txt.splitlines(True)\n",
    "print(x)"
   ]
  },
  {
   "cell_type": "code",
   "execution_count": 152,
   "metadata": {},
   "outputs": [
    {
     "name": "stdout",
     "output_type": "stream",
     "text": [
      "Welcome To My 2Nd World\n",
      "------------------\n",
      "Hello B2B2B2 And 3G3G3G\n"
     ]
    }
   ],
   "source": [
    "# title()\tConverts the first character of each word to upper case\n",
    "txt = \"Welcome to my 2nd world\"\n",
    "x = txt.title()\n",
    "print(x)\n",
    "print(\"------------------\")\n",
    "\n",
    "# Note that the first letter after a non-alphabet letter is converted into a upper case letter:\n",
    "txt = \"hello b2b2b2 and 3g3g3g\"\n",
    "x = txt.title()\n",
    "print(x)"
   ]
  },
  {
   "cell_type": "code",
   "execution_count": 168,
   "metadata": {},
   "outputs": [
    {
     "name": "stdout",
     "output_type": "stream",
     "text": [
      "000000hello\n",
      "00000hello\n",
      "welcome to the jungle\n",
      "000010.000\n"
     ]
    }
   ],
   "source": [
    "# zfill() Fills the string with a specified number of 0 values at the beginning,until it reaches the specified length.\n",
    "# string.zfill(len), len Required. A number specifying the desired length of the string\n",
    "# If the value of the len parameter is less than the length of the string, no filling is done.\n",
    "\n",
    "a = \"hello\"\n",
    "b = \"welcome to the jungle\"\n",
    "c = \"10.000\"\n",
    "\n",
    "print(a.zfill(10))\n",
    "print(b.zfill(10))\n",
    "print(c.zfill(10))"
   ]
  }
 ],
 "metadata": {
  "interpreter": {
   "hash": "9e420b6fa3fd7b9b81ddbcd254cb3b74e9e7beae700425c33bc97f90b494e529"
  },
  "kernelspec": {
   "display_name": "Python 3.9.2 64-bit",
   "language": "python",
   "name": "python3"
  },
  "language_info": {
   "codemirror_mode": {
    "name": "ipython",
    "version": 3
   },
   "file_extension": ".py",
   "mimetype": "text/x-python",
   "name": "python",
   "nbconvert_exporter": "python",
   "pygments_lexer": "ipython3",
   "version": "3.9.2"
  },
  "orig_nbformat": 4
 },
 "nbformat": 4,
 "nbformat_minor": 2
}
